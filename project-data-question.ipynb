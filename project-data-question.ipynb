{
 "cells": [
  {
   "cell_type": "markdown",
   "metadata": {},
   "source": [
    "# Assignment Directions\n",
    "\n",
    "In a code cell below this one, pull your data into a dataframe.\n",
    "\n",
    "In a markdown cell, the student should explain the dataset they have chosen and the question they are trying to answer. Why do you think this dataset is interesting? What do you hope to learn from it? What are your goals?"
   ]
  },
  {
   "cell_type": "markdown",
   "metadata": {},
   "source": [
    "**Question:**<br>\n",
    "Is there a correlation between high ratings and show popularity?\n",
    "\n",
    "**Why this dataset interests me:**<br>\n",
    "The dataset shows some insights on a good amount of shows on hulu that i can analyze. Besides the fact that movies/shows interest me, it will also be interesting to see the trends in genres, episode counts, and other stuff.\n",
    "\n",
    "**What I hope to learn**<br>\n",
    "I hope to learn more about the trends in streaming content.\n",
    "\n",
    "**My goal**<br>\n",
    "My goal is to explore data analysis with the python tools like matplotlib and seaborn."
   ]
  },
  {
   "cell_type": "code",
   "execution_count": null,
   "metadata": {
    "vscode": {
     "languageId": "plaintext"
    }
   },
   "outputs": [],
   "source": [
    "import pandas as pd\n",
    "\n",
    "hulu = pd.read_csv(hulu.csv)"
   ]
  }
 ],
 "metadata": {
  "language_info": {
   "name": "python"
  }
 },
 "nbformat": 4,
 "nbformat_minor": 2
}
